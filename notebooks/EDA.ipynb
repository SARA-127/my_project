{
 "cells": [
  {
   "cell_type": "code",
   "execution_count": null,
   "id": "ebae9d12",
   "metadata": {},
   "outputs": [
    {
     "ename": "",
     "evalue": "",
     "output_type": "error",
     "traceback": [
      "\u001b[1;31mRunning cells with '.conda (Python 3.11.13)' requires the ipykernel package.\n",
      "\u001b[1;31mInstall 'ipykernel' into the Python environment. \n",
      "\u001b[1;31mCommand: 'conda install -n .conda ipykernel --update-deps --force-reinstall'"
     ]
    }
   ],
   "source": [
    "import pandas as pd\n",
    "import plotly.express as px\n",
    "\n",
    "car_data = pd.read_csv('vehicles_us.csv') # leer los datos\n",
    "fig = px.histogram(car_data, x=\"odometer\") # crear un histograma\n",
    "fig.show() # crear gráfico de dispersión\n",
    "\n",
    "\n",
    " "
   ]
  },
  {
   "cell_type": "code",
   "execution_count": null,
   "id": "8c9716af",
   "metadata": {},
   "outputs": [],
   "source": [
    "import streamlit as st \n",
    "st.header()\n",
    "st.write()\n"
   ]
  },
  {
   "cell_type": "code",
   "execution_count": null,
   "id": "a99b465d",
   "metadata": {},
   "outputs": [],
   "source": [
    "  import pandas as pd\n",
    "     import plotly.express as px\n",
    "     import streamlit as st\n",
    "     \n",
    "     car_data = pd.read_csv('vehicles_us.csv') # leer los datos\n",
    "     hist_button = st.button('Construir histograma') # crear un botón\n",
    "     \n",
    "     if hist_button: # al hacer clic en el botón\n",
    "         # escribir un mensaje\n",
    "         st.write('Creación de un histograma para el conjunto de datos de anuncios de venta de coches')\n",
    "         \n",
    "         # crear un histograma\n",
    "         fig = px.histogram(car_data, x=\"odometer\")\n",
    "     \n",
    "         # mostrar un gráfico Plotly interactivo\n",
    "         st.plotly_chart(fig, use_container_width=True)\n",
    "     "
   ]
  },
  {
   "cell_type": "code",
   "execution_count": null,
   "id": "82f49d6c",
   "metadata": {},
   "outputs": [],
   "source": []
  }
 ],
 "metadata": {
  "kernelspec": {
   "display_name": ".conda",
   "language": "python",
   "name": "python3"
  },
  "language_info": {
   "name": "python",
   "version": "3.11.13"
  }
 },
 "nbformat": 4,
 "nbformat_minor": 5
}
